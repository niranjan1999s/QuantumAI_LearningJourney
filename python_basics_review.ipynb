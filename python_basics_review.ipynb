{
 "cells": [
  {
   "cell_type": "markdown",
   "id": "4cae13bb-0d77-4745-bec4-c9d06a08a467",
   "metadata": {},
   "source": [
    "import numpy as np\n",
    "np.zeros(5)"
   ]
  },
  {
   "cell_type": "markdown",
   "id": "1c1527a7-7e26-494d-813a-8ecc7ae43cde",
   "metadata": {},
   "source": [
    "# My Python Review\n",
    "This is a review of **Python basics** for the `QuantumAI` curriculum.\n",
    "\n",
    "- Item 1\n",
    "- Item 2"
   ]
  },
  {
   "cell_type": "code",
   "execution_count": null,
   "id": "046ece86-d515-4ae2-9aa8-28a24a6ca546",
   "metadata": {},
   "outputs": [],
   "source": []
  }
 ],
 "metadata": {
  "kernelspec": {
   "display_name": "Python 3 (ipykernel)",
   "language": "python",
   "name": "python3"
  },
  "language_info": {
   "codemirror_mode": {
    "name": "ipython",
    "version": 3
   },
   "file_extension": ".py",
   "mimetype": "text/x-python",
   "name": "python",
   "nbconvert_exporter": "python",
   "pygments_lexer": "ipython3",
   "version": "3.10.11"
  }
 },
 "nbformat": 4,
 "nbformat_minor": 5
}
